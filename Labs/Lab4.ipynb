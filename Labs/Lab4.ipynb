{
 "cells": [
  {
   "cell_type": "markdown",
   "metadata": {},
   "source": [
    "## Lab 4"
   ]
  },
  {
   "cell_type": "code",
   "execution_count": 4,
   "metadata": {},
   "outputs": [],
   "source": [
    "import numpy as np\n",
    "import pandas as pd\n",
    "import matplotlib.pyplot as plt\n",
    "import seaborn as sns"
   ]
  },
  {
   "cell_type": "code",
   "execution_count": 5,
   "metadata": {},
   "outputs": [],
   "source": [
    "salary_data = pd.read_csv('~/Desktop/P134/salarydata.csv')"
   ]
  },
  {
   "cell_type": "markdown",
   "metadata": {},
   "source": [
    "R lets dataframe store lists and other types that aren't compatible in python so we'll only do the portions that aren't all NaN"
   ]
  },
  {
   "cell_type": "code",
   "execution_count": 6,
   "metadata": {},
   "outputs": [],
   "source": [
    "salary_data.columns = [\"timestamp\", \"age\", \"industry\", \"title\",\n",
    "                   \"title_b\", \"salary\", \"bonuses\", \"currency\",\n",
    "                   \"currency_b\", \"salary_b\", \"country\",\n",
    "                   \"us_state\", \"city\", \"exp\", \"spec_exp\",\n",
    "                   \"educ\",\"gender\", \"race\"]"
   ]
  },
  {
   "cell_type": "code",
   "execution_count": null,
   "metadata": {},
   "outputs": [],
   "source": [
    "plt.hist(salary_data['salary'])\n",
    "plt.title('Distribution of Salaries')\n",
    "plt.show()"
   ]
  },
  {
   "cell_type": "code",
   "execution_count": null,
   "metadata": {},
   "outputs": [],
   "source": [
    "conversions = {\n",
    "    'USD': 1,\n",
    "    'AUD/NZD': 0.67,\n",
    "    'CAD': 0.72,\n",
    "    'CHF': 1.16,\n",
    "    'EUR': 1.09,\n",
    "    'GBP': 1.31,\n",
    "    'HKD': 0.13,\n",
    "    'JPY': 0.0067,\n",
    "    'SEK': 0.095,\n",
    "    'ZAR': 0.057\n",
    "}\n",
    "\n",
    "salary_data['salary_usd'] = salary_data.apply(\n",
    "    lambda row: row['salary'] * conversions.get(row['currency'], np.nan), axis = 1\n",
    ")"
   ]
  }
 ],
 "metadata": {
  "kernelspec": {
   "display_name": "Python 3",
   "language": "python",
   "name": "python3"
  },
  "language_info": {
   "codemirror_mode": {
    "name": "ipython",
    "version": 3
   },
   "file_extension": ".py",
   "mimetype": "text/x-python",
   "name": "python",
   "nbconvert_exporter": "python",
   "pygments_lexer": "ipython3",
   "version": "3.12.7"
  }
 },
 "nbformat": 4,
 "nbformat_minor": 2
}
