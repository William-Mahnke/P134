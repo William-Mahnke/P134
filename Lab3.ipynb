{
 "cells": [
  {
   "cell_type": "markdown",
   "metadata": {},
   "source": [
    "## Lab 3: Web Scraping"
   ]
  },
  {
   "cell_type": "code",
   "execution_count": 1,
   "metadata": {},
   "outputs": [],
   "source": [
    "import requests\n",
    "from bs4 import BeautifulSoup"
   ]
  },
  {
   "cell_type": "code",
   "execution_count": 2,
   "metadata": {},
   "outputs": [],
   "source": [
    "url = 'https://www.allsides.com/media-bias/media-bias-ratings'\n",
    "\n",
    "r = requests.get(url)\n",
    "\n",
    "soup = BeautifulSoup(r.content, 'html.parser')"
   ]
  },
  {
   "cell_type": "code",
   "execution_count": 4,
   "metadata": {},
   "outputs": [],
   "source": [
    "# other option, looading in html file \n",
    "htmlfile = open(\"lab-3-data.html\", \"r\") \n",
    "  \n",
    "# Reading the file \n",
    "index = htmlfile.read() \n",
    "  \n",
    "# Creating a BeautifulSoup object and specifying the parser \n",
    "soup = BeautifulSoup(index, 'html.parser')"
   ]
  },
  {
   "cell_type": "code",
   "execution_count": 5,
   "metadata": {},
   "outputs": [
    {
     "name": "stdout",
     "output_type": "stream",
     "text": [
      "ABC News (Online)\n"
     ]
    }
   ],
   "source": [
    "rows = soup.select('tbody tr')\n",
    "\n",
    "row = rows[0]\n",
    "name = row.select_one('.source-title').text.strip()\n",
    "\n",
    "print(name)"
   ]
  },
  {
   "cell_type": "code",
   "execution_count": 6,
   "metadata": {},
   "outputs": [
    {
     "name": "stdout",
     "output_type": "stream",
     "text": [
      "https://allsides.com/news-source/abc-news-media-bias\n"
     ]
    }
   ],
   "source": [
    "allsides_page = row.select_one('.source-title a')['href']\n",
    "allsides_page = 'https://allsides.com' + allsides_page\n",
    "\n",
    "print(allsides_page)"
   ]
  },
  {
   "cell_type": "code",
   "execution_count": 7,
   "metadata": {},
   "outputs": [
    {
     "name": "stdout",
     "output_type": "stream",
     "text": [
      "left-center\n"
     ]
    }
   ],
   "source": [
    "bias = row.select_one('.views-field-field-bias-image a')['href']\n",
    "bias = bias.split('/')[-1]\n",
    "\n",
    "print(bias)"
   ]
  },
  {
   "cell_type": "code",
   "execution_count": 8,
   "metadata": {},
   "outputs": [
    {
     "name": "stdout",
     "output_type": "stream",
     "text": [
      "Agree: 46837, Disagree: 23302, Ratio 2.01\n"
     ]
    }
   ],
   "source": [
    "agree = row.select_one('.agree').text\n",
    "agree = int(agree)\n",
    "\n",
    "disagree = row.select_one('.disagree').text\n",
    "disagree = int(disagree)\n",
    "\n",
    "agree_ratio = agree / disagree\n",
    "\n",
    "print(f\"Agree: {agree}, Disagree: {disagree}, Ratio {agree_ratio:.2f}\")"
   ]
  },
  {
   "cell_type": "code",
   "execution_count": 9,
   "metadata": {},
   "outputs": [
    {
     "name": "stdout",
     "output_type": "stream",
     "text": [
      "None\n"
     ]
    }
   ],
   "source": [
    "print(row.select_one('.community-feedback-rating-page'))"
   ]
  },
  {
   "cell_type": "code",
   "execution_count": 10,
   "metadata": {},
   "outputs": [
    {
     "name": "stdout",
     "output_type": "stream",
     "text": [
      "neutral\n"
     ]
    }
   ],
   "source": [
    "def get_agreeance_text(ratio):\n",
    "    if ratio > 3: return \"absolutely agrees\"\n",
    "    elif 2 < ratio <= 3: return \"strongly agrees\"\n",
    "    elif 1.5 < ratio <= 2: return \"agrees\"\n",
    "    elif 1 < ratio <= 1.5: return \"somewhat agrees\"\n",
    "    elif ratio == 1: return \"neutral\"\n",
    "    elif 0.67 < ratio < 1: return \"somewhat disagrees\"\n",
    "    elif 0.5 < ratio <= 0.67: return \"disagrees\"\n",
    "    elif 0.33 < ratio <= 0.5: return \"strongly disagrees\"\n",
    "    elif ratio <= 0.33: return \"absolutely disagrees\"\n",
    "    else: return None\n",
    "    \n",
    "print(get_agreeance_text(1))"
   ]
  },
  {
   "cell_type": "code",
   "execution_count": 11,
   "metadata": {},
   "outputs": [],
   "source": [
    "data = []\n",
    "\n",
    "for row in rows:\n",
    "    d = dict()\n",
    "    \n",
    "    d['name'] = row.select_one('.source-title').text.strip()\n",
    "    d['allsides_page'] = 'https://www.allsides.com' + row.select_one('.source-title a')['href']\n",
    "    d['bias'] = row.select_one('.views-field-field-bias-image a')['href'].split('/')[-1]\n",
    "    d['agree'] = int(row.select_one('.agree').text)\n",
    "    d['disagree'] = int(row.select_one('.disagree').text)\n",
    "    d['agree_ratio'] = d['agree'] / d['disagree']\n",
    "    d['agreeance_text'] = get_agreeance_text(d['agree_ratio'])\n",
    "    \n",
    "    data.append(d)"
   ]
  },
  {
   "cell_type": "code",
   "execution_count": 12,
   "metadata": {},
   "outputs": [
    {
     "name": "stdout",
     "output_type": "stream",
     "text": [
      "{'name': 'ABC News (Online)', 'allsides_page': 'https://www.allsides.com/news-source/abc-news-media-bias', 'bias': 'left-center', 'agree': 46837, 'disagree': 23302, 'agree_ratio': 2.009999141704575, 'agreeance_text': 'strongly agrees'}\n"
     ]
    }
   ],
   "source": [
    "print(data[0])"
   ]
  },
  {
   "cell_type": "markdown",
   "metadata": {},
   "source": [
    "This pages requires waiting 10 seconds between each request, hence using `sleep(10)`"
   ]
  },
  {
   "cell_type": "code",
   "execution_count": null,
   "metadata": {},
   "outputs": [],
   "source": [
    "# TODO add html for pages and parse through alternative way\n",
    "pages = [\n",
    "    'https://www.allsides.com/media-bias/media-bias-ratings',\n",
    "    'https://www.allsides.com/media-bias/media-bias-ratings?page=1',\n",
    "    'https://www.allsides.com/media-bias/media-bias-ratings?page=2'\n",
    "]\n",
    "\n",
    "from time import sleep\n",
    "\n",
    "data = []\n",
    "\n",
    "for page in pages:\n",
    "    r = requests.get(page)\n",
    "    soup = BeautifulSoup(r.content, 'html.parser')\n",
    "    \n",
    "    rows = soup.select('tbody tr')\n",
    "\n",
    "    for row in rows:\n",
    "        d = dict()\n",
    "        \n",
    "        d['name'] = row.select_one('.source-title').text.strip()\n",
    "        d['allsides_page'] = 'https://www.allsides.com' + row.select_one('.source-title a')['href']\n",
    "        d['bias'] = row.select_one('.views-field-field-bias-image a')['href'].split('/')[-1]\n",
    "        d['agree'] = int(row.select_one('.agree').text)\n",
    "        d['disagree'] = int(row.select_one('.disagree').text)\n",
    "        d['agree_ratio'] = d['agree'] / d['disagree']\n",
    "        d['agreeance_text'] = get_agreeance_text(d['agree_ratio'])\n",
    "\n",
    "        data.append(d)\n",
    "    \n",
    "    sleep(10)"
   ]
  },
  {
   "cell_type": "code",
   "execution_count": null,
   "metadata": {},
   "outputs": [],
   "source": [
    "import pandas as pd\n",
    "\n",
    "df = pd.DataFrame(data)\n",
    "\n",
    "df.set_index('name', inplace=True)\n",
    "\n",
    "df.head()"
   ]
  },
  {
   "cell_type": "code",
   "execution_count": 17,
   "metadata": {},
   "outputs": [
    {
     "data": {
      "text/plain": [
       "[]"
      ]
     },
     "execution_count": 17,
     "metadata": {},
     "output_type": "execute_result"
    }
   ],
   "source": [
    "data"
   ]
  },
  {
   "cell_type": "markdown",
   "metadata": {},
   "source": [
    "### Exercises"
   ]
  },
  {
   "cell_type": "code",
   "execution_count": null,
   "metadata": {},
   "outputs": [],
   "source": [
    "import matplotlib.pyplot as plt\n",
    "\n",
    "df['total_votes'] = df['agree'] + df['disagree']\n",
    "\n",
    "df3 = df.copy()\n",
    "\n",
    "fig = plt.figure(figsize=(15,15))\n",
    "\n",
    "biases = df3['bias'].unique()\n",
    "\n",
    "for i, bias in enumerate(biases):\n",
    "    temp_df = df3[df3['bias'] == bias].iloc[:10]\n",
    "    temp_df.sort_index(inplace=True)\n",
    "    \n",
    "    max_votes = temp_df['total_votes'].max()\n",
    "    \n",
    "    ax = fig.add_subplot(3, 2, i + 1)\n",
    "    \n",
    "    ax.bar(temp_df.index, temp_df['agree'], color='#5DAF83')\n",
    "    ax.bar(temp_df.index, temp_df['disagree'], bottom=temp_df['agree'], color='#AF3B3B')\n",
    "    \n",
    "    for x, y, ratio in zip(ax.get_xticks(), temp_df['total_votes'], temp_df['agree_ratio']):\n",
    "        ax.text(x, y + (0.02 * max_votes), f\"{ratio:.2f}\", ha='center')\n",
    "    \n",
    "    ax.set_ylabel('Total feedback')\n",
    "    ax.set_title(bias.title())\n",
    "    \n",
    "    ax.set_ylim(0, max_votes + (0.12 * max_votes))\n",
    "    \n",
    "    plt.setp(ax.get_xticklabels(), rotation=30, ha='right')"
   ]
  }
 ],
 "metadata": {
  "kernelspec": {
   "display_name": "r-reticulate",
   "language": "python",
   "name": "python3"
  },
  "language_info": {
   "codemirror_mode": {
    "name": "ipython",
    "version": 3
   },
   "file_extension": ".py",
   "mimetype": "text/x-python",
   "name": "python",
   "nbconvert_exporter": "python",
   "pygments_lexer": "ipython3",
   "version": "3.12.7"
  }
 },
 "nbformat": 4,
 "nbformat_minor": 2
}
